{
 "cells": [
  {
   "cell_type": "code",
   "execution_count": 1,
   "metadata": {},
   "outputs": [],
   "source": [
    "import numpy as np\n",
    "import pandas as pd\n",
    "import player as p"
   ]
  },
  {
   "cell_type": "code",
   "execution_count": 2,
   "metadata": {},
   "outputs": [],
   "source": [
    "data = pd.read_csv(\"AAPL.csv\", usecols=[1,2,3,4,6,7,8])"
   ]
  },
  {
   "cell_type": "code",
   "execution_count": 3,
   "metadata": {},
   "outputs": [
    {
     "data": {
      "text/html": [
       "<div>\n",
       "<style scoped>\n",
       "    .dataframe tbody tr th:only-of-type {\n",
       "        vertical-align: middle;\n",
       "    }\n",
       "\n",
       "    .dataframe tbody tr th {\n",
       "        vertical-align: top;\n",
       "    }\n",
       "\n",
       "    .dataframe thead th {\n",
       "        text-align: right;\n",
       "    }\n",
       "</style>\n",
       "<table border=\"1\" class=\"dataframe\">\n",
       "  <thead>\n",
       "    <tr style=\"text-align: right;\">\n",
       "      <th></th>\n",
       "      <th>Open</th>\n",
       "      <th>High</th>\n",
       "      <th>Low</th>\n",
       "      <th>Close</th>\n",
       "      <th>Volume</th>\n",
       "      <th>20_day</th>\n",
       "      <th>50_day</th>\n",
       "    </tr>\n",
       "  </thead>\n",
       "  <tbody>\n",
       "    <tr>\n",
       "      <th>0</th>\n",
       "      <td>0.128348</td>\n",
       "      <td>0.128906</td>\n",
       "      <td>0.128348</td>\n",
       "      <td>0.128348</td>\n",
       "      <td>469033600.0</td>\n",
       "      <td>0.138588</td>\n",
       "      <td>0.132578</td>\n",
       "    </tr>\n",
       "    <tr>\n",
       "      <th>1</th>\n",
       "      <td>0.122210</td>\n",
       "      <td>0.122210</td>\n",
       "      <td>0.121652</td>\n",
       "      <td>0.121652</td>\n",
       "      <td>175884800.0</td>\n",
       "      <td>0.138979</td>\n",
       "      <td>0.132266</td>\n",
       "    </tr>\n",
       "    <tr>\n",
       "      <th>2</th>\n",
       "      <td>0.113281</td>\n",
       "      <td>0.113281</td>\n",
       "      <td>0.112723</td>\n",
       "      <td>0.112723</td>\n",
       "      <td>105728000.0</td>\n",
       "      <td>0.139732</td>\n",
       "      <td>0.132121</td>\n",
       "    </tr>\n",
       "    <tr>\n",
       "      <th>3</th>\n",
       "      <td>0.115513</td>\n",
       "      <td>0.116071</td>\n",
       "      <td>0.115513</td>\n",
       "      <td>0.115513</td>\n",
       "      <td>86441600.0</td>\n",
       "      <td>0.141071</td>\n",
       "      <td>0.132232</td>\n",
       "    </tr>\n",
       "    <tr>\n",
       "      <th>4</th>\n",
       "      <td>0.118862</td>\n",
       "      <td>0.119420</td>\n",
       "      <td>0.118862</td>\n",
       "      <td>0.118862</td>\n",
       "      <td>73449600.0</td>\n",
       "      <td>0.142215</td>\n",
       "      <td>0.132299</td>\n",
       "    </tr>\n",
       "  </tbody>\n",
       "</table>\n",
       "</div>"
      ],
      "text/plain": [
       "       Open      High       Low     Close       Volume    20_day    50_day\n",
       "0  0.128348  0.128906  0.128348  0.128348  469033600.0  0.138588  0.132578\n",
       "1  0.122210  0.122210  0.121652  0.121652  175884800.0  0.138979  0.132266\n",
       "2  0.113281  0.113281  0.112723  0.112723  105728000.0  0.139732  0.132121\n",
       "3  0.115513  0.116071  0.115513  0.115513   86441600.0  0.141071  0.132232\n",
       "4  0.118862  0.119420  0.118862  0.118862   73449600.0  0.142215  0.132299"
      ]
     },
     "execution_count": 3,
     "metadata": {},
     "output_type": "execute_result"
    }
   ],
   "source": [
    "data.head()"
   ]
  },
  {
   "cell_type": "code",
   "execution_count": 4,
   "metadata": {},
   "outputs": [
    {
     "data": {
      "text/plain": [
       "float"
      ]
     },
     "execution_count": 4,
     "metadata": {},
     "output_type": "execute_result"
    }
   ],
   "source": [
    "type(float(data.iloc[1,0]))"
   ]
  },
  {
   "cell_type": "code",
   "execution_count": 5,
   "metadata": {},
   "outputs": [
    {
     "name": "stdout",
     "output_type": "stream",
     "text": [
      "Player your Shares : {'Apple': 0} your Cash: 10000\n",
      "\n",
      "Day 1 apple stock: Open      1.222100e-01\n",
      "High      1.222100e-01\n",
      "Low       1.216520e-01\n",
      "Close     1.216520e-01\n",
      "Volume    1.758848e+08\n",
      "20_day    1.389788e-01\n",
      "50_day    1.322656e-01\n",
      "Name: 1, dtype: float64 \n",
      "\n",
      "3 things you can do\n",
      "1. Buy(B/b)  2. Sell(S/s) 3. Hold(H/hS)\n",
      "\n",
      "what you want to do?!!!!\n",
      "b\n",
      "How many shares you want to buy--> 234\n",
      "Player your Shares : {'Apple': 234} your Cash: 9971.40286\n",
      "\n",
      "Day 2 apple stock: Open      1.132810e-01\n",
      "High      1.132810e-01\n",
      "Low       1.127230e-01\n",
      "Close     1.127230e-01\n",
      "Volume    1.057280e+08\n",
      "20_day    1.397321e-01\n",
      "50_day    1.321205e-01\n",
      "Name: 2, dtype: float64 \n",
      "\n",
      "3 things you can do\n",
      "1. Buy(B/b)  2. Sell(S/s) 3. Hold(H/hS)\n",
      "\n",
      "what you want to do?!!!!\n",
      "s\n",
      "How many shares you want to sell--> 230\n",
      "Player your Shares : {'Apple': 4} your Cash: 9997.45749\n",
      "\n",
      "Day 3 apple stock: Open      1.155130e-01\n",
      "High      1.160710e-01\n",
      "Low       1.155130e-01\n",
      "Close     1.155130e-01\n",
      "Volume    8.644160e+07\n",
      "20_day    1.410714e-01\n",
      "50_day    1.322321e-01\n",
      "Name: 3, dtype: float64 \n",
      "\n",
      "3 things you can do\n",
      "1. Buy(B/b)  2. Sell(S/s) 3. Hold(H/hS)\n",
      "\n",
      "what you want to do?!!!!\n",
      "b\n",
      "How many shares you want to buy--> 23\n",
      "Player your Shares : {'Apple': 27} your Cash + shares cost: 9998.009965000001\n",
      "\n",
      "Game end\n"
     ]
    }
   ],
   "source": [
    "playerObj = p.Player('Apple',10000,{'Apple':0})\n",
    "turns = 1\n",
    "n_shares_bought = 0\n",
    "n_shares_sold = 0\n",
    "while turns <= 30:\n",
    "    \n",
    "    print(f\"Player your Shares : {playerObj.portfolio} your Cash: {playerObj.cash}\\n\")\n",
    "    print(f\"Day {turns} apple stock: {data.iloc[turns]} \\n\")\n",
    "    print(\"Please choose from below\")\n",
    "    print(\"1. Buy(B/b)  2. Sell(S/s) 3. Hold(H/hS)\\n\")\n",
    "    choice = input(\"what you want to do?!!!!\\n\")\n",
    "    #str1 = 'Apple'+str(turns)\n",
    "    stockObject = p.Stock('Apple',data.iloc[turns,0])\n",
    "    \n",
    "    if choice == 'S' or choice == 's':\n",
    "        #stck = input(\"which stock you want to sell?\")\n",
    "        n_shares_sold = input(\"How many shares you want to sell--> \")\n",
    "        playerObj.sell(stockObject,int(n_shares_sold),'Apple')\n",
    "        \n",
    "    elif choice == 'B' or choice == 'b':\n",
    "        n_shares_bought = input(\"How many shares you want to buy--> \")\n",
    "        playerObj.buy(stockObject,int(n_shares_bought))\n",
    "        \n",
    "    elif choice == 'H' or choice == 'h':\n",
    "        turns+=1\n",
    "        continue\n",
    " \n",
    "    else:\n",
    "        print(\"<<>><<>><<>>Enter Valid Choice<<>><<>><<>> \\n\")\n",
    "        continue\n",
    "    turns+=1\n",
    "    \n",
    "\n",
    "Totalshares = sum(playerObj.portfolio.values()) \n",
    "\n",
    "print(f\"Player your Shares : {playerObj.portfolio} your Cash + shares cost: {playerObj.cash+Totalshares*data.iloc[turns,0]}\\n\")\n",
    "print(\"Game end\")"
   ]
  },
  {
   "cell_type": "code",
   "execution_count": 15,
   "metadata": {},
   "outputs": [],
   "source": [
    "Totalshares = sum(playerObj.portfolio.values()) "
   ]
  },
  {
   "cell_type": "code",
   "execution_count": 17,
   "metadata": {},
   "outputs": [
    {
     "data": {
      "text/plain": [
       "10000.05694"
      ]
     },
     "execution_count": 17,
     "metadata": {},
     "output_type": "execute_result"
    }
   ],
   "source": [
    "playerObj.cash + (Totalshares)*data.iloc[turns,0]"
   ]
  },
  {
   "cell_type": "code",
   "execution_count": 17,
   "metadata": {},
   "outputs": [],
   "source": [
    "stockObject = p.Stock('Apple',data.iloc[turns,0])\n"
   ]
  },
  {
   "cell_type": "code",
   "execution_count": 18,
   "metadata": {},
   "outputs": [
    {
     "data": {
      "text/plain": [
       "'Apple'"
      ]
     },
     "execution_count": 18,
     "metadata": {},
     "output_type": "execute_result"
    }
   ],
   "source": [
    "stockObject.ticker"
   ]
  },
  {
   "cell_type": "code",
   "execution_count": 19,
   "metadata": {},
   "outputs": [
    {
     "data": {
      "text/plain": [
       "0.12220999999999999"
      ]
     },
     "execution_count": 19,
     "metadata": {},
     "output_type": "execute_result"
    }
   ],
   "source": [
    "(float(data.iloc[1,0]))"
   ]
  },
  {
   "cell_type": "code",
   "execution_count": null,
   "metadata": {},
   "outputs": [],
   "source": []
  },
  {
   "cell_type": "code",
   "execution_count": null,
   "metadata": {},
   "outputs": [],
   "source": []
  }
 ],
 "metadata": {
  "kernelspec": {
   "display_name": "Python 3",
   "language": "python",
   "name": "python3"
  },
  "language_info": {
   "codemirror_mode": {
    "name": "ipython",
    "version": 3
   },
   "file_extension": ".py",
   "mimetype": "text/x-python",
   "name": "python",
   "nbconvert_exporter": "python",
   "pygments_lexer": "ipython3",
   "version": "3.8.3"
  }
 },
 "nbformat": 4,
 "nbformat_minor": 4
}